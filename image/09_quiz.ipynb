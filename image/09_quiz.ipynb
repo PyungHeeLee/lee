{
 "cells": [
  {
   "cell_type": "markdown",
   "id": "3c5541c6",
   "metadata": {},
   "source": [
    "# 비디오 재생"
   ]
  },
  {
   "cell_type": "code",
   "execution_count": 10,
   "id": "1bdcb6c2",
   "metadata": {},
   "outputs": [],
   "source": [
    "import cv2\n",
    "video = cv2.VideoCapture('video.mp4')\n",
    "\n",
    "while video.isOpened():\n",
    "    ret, frame = video.read()\n",
    "    if not ret:\n",
    "        break\n",
    "    cv2.imshow('window', frame)\n",
    "    if cv2.waitKey(1) == ord('q'):\n",
    "        break\n",
    "\n",
    "video.release()\n",
    "cv2.destroyAllWindows()"
   ]
  },
  {
   "cell_type": "markdown",
   "id": "e05e3402",
   "metadata": {},
   "source": [
    "# 비디오 회전 재생"
   ]
  },
  {
   "cell_type": "code",
   "execution_count": 7,
   "id": "93d5ec85",
   "metadata": {},
   "outputs": [],
   "source": [
    "import cv2\n",
    "video = cv2.VideoCapture('video.mp4')\n",
    "\n",
    "while video.isOpened():\n",
    "    ret, frame = video.read()\n",
    "    if not ret:\n",
    "        break\n",
    "    rotated_frame = cv2.rotate(frame, cv2.ROTATE_90_CLOCKWISE)\n",
    "    cv2.imshow('window', rotated_frame)\n",
    "    if cv2.waitKey(1) == ord('q'):\n",
    "        break\n",
    "\n",
    "video.release()\n",
    "cv2.destroyAllWindows()"
   ]
  },
  {
   "cell_type": "markdown",
   "id": "acc42d75",
   "metadata": {},
   "source": [
    "# 회전 비디오 저장"
   ]
  },
  {
   "cell_type": "code",
   "execution_count": 1,
   "id": "f7009f32",
   "metadata": {},
   "outputs": [],
   "source": [
    "import cv2\n",
    "video = cv2.VideoCapture('video.mp4')\n",
    "codec = cv2.VideoWriter_fourcc(*'DIVX')\n",
    "width = round(video.get(cv2.CAP_PROP_FRAME_WIDTH))\n",
    "height = round(video.get(cv2.CAP_PROP_FRAME_HEIGHT))\n",
    "fps = video.get(cv2.CAP_PROP_FPS) * 4\n",
    "writer = cv2.VideoWriter('my_video.avi', codec, fps, (height, width))\n",
    "\n",
    "while video.isOpened():\n",
    "    ret, frame = video.read()\n",
    "    if not ret:\n",
    "        break\n",
    "    rotated_frame = cv2.rotate(frame, cv2.ROTATE_90_COUNTERCLOCKWISE)\n",
    "    writer.write(rotated_frame) # 프레임 저장\n",
    "    cv2.imshow('video', rotated_frame)\n",
    "    if cv2.waitKey(1) == ord('q'):\n",
    "        break\n",
    "        \n",
    "writer.release() # 자원 해제\n",
    "video.release()\n",
    "cv2.destroyAllWindows()"
   ]
  },
  {
   "cell_type": "code",
   "execution_count": 20,
   "id": "89ff65a0",
   "metadata": {},
   "outputs": [],
   "source": [
    "import cv2"
   ]
  },
  {
   "cell_type": "code",
   "execution_count": null,
   "id": "96447965",
   "metadata": {},
   "outputs": [],
   "source": [
    "cv2.ROTATE_90_COUNTERCLOCKWISE"
   ]
  }
 ],
 "metadata": {
  "kernelspec": {
   "display_name": "Python 3 (ipykernel)",
   "language": "python",
   "name": "python3"
  },
  "language_info": {
   "codemirror_mode": {
    "name": "ipython",
    "version": 3
   },
   "file_extension": ".py",
   "mimetype": "text/x-python",
   "name": "python",
   "nbconvert_exporter": "python",
   "pygments_lexer": "ipython3",
   "version": "3.9.13"
  }
 },
 "nbformat": 4,
 "nbformat_minor": 5
}
