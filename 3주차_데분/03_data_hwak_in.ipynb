{
 "cells": [
  {
   "cell_type": "markdown",
   "id": "47267c2a",
   "metadata": {},
   "source": [
    "# 데이터 확인"
   ]
  },
  {
   "cell_type": "code",
   "execution_count": 21,
   "id": "cf764f2d",
   "metadata": {
    "scrolled": false
   },
   "outputs": [
    {
     "name": "stdout",
     "output_type": "stream",
     "text": [
      "     이름    키  출생연도 출신지  집권기간              약칭\n",
      "번호                                          \n",
      "0   이승만  172  1870  황해   9.0             Lee\n",
      "1   윤보선  169  1890  충남   0.5            Yoon\n",
      "2   박정희  162  1910  경북  18.0  President Part\n",
      "3   최규하  182  1920  강원   0.5            Choi\n",
      "4   전두환  172  1930  경남   7.0            Jeon\n",
      "5   노태우  180  1930  경북   5.0             Noe\n",
      "6   김영삼  172  1920  경남   5.0             Sam\n",
      "7   김대중  170  1920  전남   5.0             Kim\n",
      "8   이회창  168  1930  황해   0.0           Chang\n",
      "9   노무현  165  1940  경남   5.0             Noe\n",
      "10  이명박  175  1940  경북   5.0             Lee\n",
      "11  박근혜  163  1950  경북   4.5            Park\n",
      "12  문재인  173  1950  경남   5.0            Moon\n",
      "13  윤석열  178  1960  서울   5.0            Seok\n",
      "14  이재명  175  1960  경북   0.0             Lee <class 'pandas.core.frame.DataFrame'>\n"
     ]
    }
   ],
   "source": [
    "import pandas as pd\n",
    "df = pd.read_excel('presidents4.xlsx', index_col='번호')\n",
    "print(df,type(df))"
   ]
  },
  {
   "cell_type": "markdown",
   "id": "fec33b99",
   "metadata": {},
   "source": [
    "## df 확인\n",
    "계산 가능한 데이터에 대하여 통계값 정리"
   ]
  },
  {
   "cell_type": "code",
   "execution_count": 22,
   "id": "08f7722a",
   "metadata": {
    "scrolled": true
   },
   "outputs": [
    {
     "data": {
      "text/html": [
       "<div>\n",
       "<style scoped>\n",
       "    .dataframe tbody tr th:only-of-type {\n",
       "        vertical-align: middle;\n",
       "    }\n",
       "\n",
       "    .dataframe tbody tr th {\n",
       "        vertical-align: top;\n",
       "    }\n",
       "\n",
       "    .dataframe thead th {\n",
       "        text-align: right;\n",
       "    }\n",
       "</style>\n",
       "<table border=\"1\" class=\"dataframe\">\n",
       "  <thead>\n",
       "    <tr style=\"text-align: right;\">\n",
       "      <th></th>\n",
       "      <th>키</th>\n",
       "      <th>출생연도</th>\n",
       "      <th>집권기간</th>\n",
       "    </tr>\n",
       "  </thead>\n",
       "  <tbody>\n",
       "    <tr>\n",
       "      <th>count</th>\n",
       "      <td>15.000000</td>\n",
       "      <td>15.00000</td>\n",
       "      <td>15.000000</td>\n",
       "    </tr>\n",
       "    <tr>\n",
       "      <th>mean</th>\n",
       "      <td>171.733333</td>\n",
       "      <td>1928.00000</td>\n",
       "      <td>4.966667</td>\n",
       "    </tr>\n",
       "    <tr>\n",
       "      <th>std</th>\n",
       "      <td>5.836666</td>\n",
       "      <td>24.84236</td>\n",
       "      <td>4.470006</td>\n",
       "    </tr>\n",
       "    <tr>\n",
       "      <th>min</th>\n",
       "      <td>162.000000</td>\n",
       "      <td>1870.00000</td>\n",
       "      <td>0.000000</td>\n",
       "    </tr>\n",
       "    <tr>\n",
       "      <th>25%</th>\n",
       "      <td>168.500000</td>\n",
       "      <td>1920.00000</td>\n",
       "      <td>2.500000</td>\n",
       "    </tr>\n",
       "    <tr>\n",
       "      <th>50%</th>\n",
       "      <td>172.000000</td>\n",
       "      <td>1930.00000</td>\n",
       "      <td>5.000000</td>\n",
       "    </tr>\n",
       "    <tr>\n",
       "      <th>75%</th>\n",
       "      <td>175.000000</td>\n",
       "      <td>1945.00000</td>\n",
       "      <td>5.000000</td>\n",
       "    </tr>\n",
       "    <tr>\n",
       "      <th>max</th>\n",
       "      <td>182.000000</td>\n",
       "      <td>1960.00000</td>\n",
       "      <td>18.000000</td>\n",
       "    </tr>\n",
       "  </tbody>\n",
       "</table>\n",
       "</div>"
      ],
      "text/plain": [
       "                키        출생연도       집권기간\n",
       "count   15.000000    15.00000  15.000000\n",
       "mean   171.733333  1928.00000   4.966667\n",
       "std      5.836666    24.84236   4.470006\n",
       "min    162.000000  1870.00000   0.000000\n",
       "25%    168.500000  1920.00000   2.500000\n",
       "50%    172.000000  1930.00000   5.000000\n",
       "75%    175.000000  1945.00000   5.000000\n",
       "max    182.000000  1960.00000  18.000000"
      ]
     },
     "execution_count": 22,
     "metadata": {},
     "output_type": "execute_result"
    }
   ],
   "source": [
    "df.describe()"
   ]
  },
  {
   "cell_type": "code",
   "execution_count": 23,
   "id": "2e29f1fa",
   "metadata": {
    "scrolled": true
   },
   "outputs": [
    {
     "name": "stdout",
     "output_type": "stream",
     "text": [
      "<class 'pandas.core.frame.DataFrame'>\n",
      "Int64Index: 15 entries, 0 to 14\n",
      "Data columns (total 6 columns):\n",
      " #   Column  Non-Null Count  Dtype  \n",
      "---  ------  --------------  -----  \n",
      " 0   이름      15 non-null     object \n",
      " 1   키       15 non-null     int64  \n",
      " 2   출생연도    15 non-null     int64  \n",
      " 3   출신지     15 non-null     object \n",
      " 4   집권기간    15 non-null     float64\n",
      " 5   약칭      15 non-null     object \n",
      "dtypes: float64(1), int64(2), object(3)\n",
      "memory usage: 840.0+ bytes\n"
     ]
    }
   ],
   "source": [
    "df.info()"
   ]
  },
  {
   "cell_type": "code",
   "execution_count": 24,
   "id": "b8ac5184",
   "metadata": {},
   "outputs": [
    {
     "data": {
      "text/html": [
       "<div>\n",
       "<style scoped>\n",
       "    .dataframe tbody tr th:only-of-type {\n",
       "        vertical-align: middle;\n",
       "    }\n",
       "\n",
       "    .dataframe tbody tr th {\n",
       "        vertical-align: top;\n",
       "    }\n",
       "\n",
       "    .dataframe thead th {\n",
       "        text-align: right;\n",
       "    }\n",
       "</style>\n",
       "<table border=\"1\" class=\"dataframe\">\n",
       "  <thead>\n",
       "    <tr style=\"text-align: right;\">\n",
       "      <th></th>\n",
       "      <th>이름</th>\n",
       "      <th>키</th>\n",
       "      <th>출생연도</th>\n",
       "      <th>출신지</th>\n",
       "      <th>집권기간</th>\n",
       "      <th>약칭</th>\n",
       "    </tr>\n",
       "    <tr>\n",
       "      <th>번호</th>\n",
       "      <th></th>\n",
       "      <th></th>\n",
       "      <th></th>\n",
       "      <th></th>\n",
       "      <th></th>\n",
       "      <th></th>\n",
       "    </tr>\n",
       "  </thead>\n",
       "  <tbody>\n",
       "    <tr>\n",
       "      <th>0</th>\n",
       "      <td>이승만</td>\n",
       "      <td>172</td>\n",
       "      <td>1870</td>\n",
       "      <td>황해</td>\n",
       "      <td>9.0</td>\n",
       "      <td>Lee</td>\n",
       "    </tr>\n",
       "    <tr>\n",
       "      <th>1</th>\n",
       "      <td>윤보선</td>\n",
       "      <td>169</td>\n",
       "      <td>1890</td>\n",
       "      <td>충남</td>\n",
       "      <td>0.5</td>\n",
       "      <td>Yoon</td>\n",
       "    </tr>\n",
       "    <tr>\n",
       "      <th>2</th>\n",
       "      <td>박정희</td>\n",
       "      <td>162</td>\n",
       "      <td>1910</td>\n",
       "      <td>경북</td>\n",
       "      <td>18.0</td>\n",
       "      <td>President Part</td>\n",
       "    </tr>\n",
       "    <tr>\n",
       "      <th>3</th>\n",
       "      <td>최규하</td>\n",
       "      <td>182</td>\n",
       "      <td>1920</td>\n",
       "      <td>강원</td>\n",
       "      <td>0.5</td>\n",
       "      <td>Choi</td>\n",
       "    </tr>\n",
       "  </tbody>\n",
       "</table>\n",
       "</div>"
      ],
      "text/plain": [
       "     이름    키  출생연도 출신지  집권기간              약칭\n",
       "번호                                          \n",
       "0   이승만  172  1870  황해   9.0             Lee\n",
       "1   윤보선  169  1890  충남   0.5            Yoon\n",
       "2   박정희  162  1910  경북  18.0  President Part\n",
       "3   최규하  182  1920  강원   0.5            Choi"
      ]
     },
     "execution_count": 24,
     "metadata": {},
     "output_type": "execute_result"
    }
   ],
   "source": [
    "df.head(4)"
   ]
  },
  {
   "cell_type": "code",
   "execution_count": 25,
   "id": "8e7e372a",
   "metadata": {},
   "outputs": [
    {
     "data": {
      "text/html": [
       "<div>\n",
       "<style scoped>\n",
       "    .dataframe tbody tr th:only-of-type {\n",
       "        vertical-align: middle;\n",
       "    }\n",
       "\n",
       "    .dataframe tbody tr th {\n",
       "        vertical-align: top;\n",
       "    }\n",
       "\n",
       "    .dataframe thead th {\n",
       "        text-align: right;\n",
       "    }\n",
       "</style>\n",
       "<table border=\"1\" class=\"dataframe\">\n",
       "  <thead>\n",
       "    <tr style=\"text-align: right;\">\n",
       "      <th></th>\n",
       "      <th>이름</th>\n",
       "      <th>키</th>\n",
       "      <th>출생연도</th>\n",
       "      <th>출신지</th>\n",
       "      <th>집권기간</th>\n",
       "      <th>약칭</th>\n",
       "    </tr>\n",
       "    <tr>\n",
       "      <th>번호</th>\n",
       "      <th></th>\n",
       "      <th></th>\n",
       "      <th></th>\n",
       "      <th></th>\n",
       "      <th></th>\n",
       "      <th></th>\n",
       "    </tr>\n",
       "  </thead>\n",
       "  <tbody>\n",
       "    <tr>\n",
       "      <th>12</th>\n",
       "      <td>문재인</td>\n",
       "      <td>173</td>\n",
       "      <td>1950</td>\n",
       "      <td>경남</td>\n",
       "      <td>5.0</td>\n",
       "      <td>Moon</td>\n",
       "    </tr>\n",
       "    <tr>\n",
       "      <th>13</th>\n",
       "      <td>윤석열</td>\n",
       "      <td>178</td>\n",
       "      <td>1960</td>\n",
       "      <td>서울</td>\n",
       "      <td>5.0</td>\n",
       "      <td>Seok</td>\n",
       "    </tr>\n",
       "    <tr>\n",
       "      <th>14</th>\n",
       "      <td>이재명</td>\n",
       "      <td>175</td>\n",
       "      <td>1960</td>\n",
       "      <td>경북</td>\n",
       "      <td>0.0</td>\n",
       "      <td>Lee</td>\n",
       "    </tr>\n",
       "  </tbody>\n",
       "</table>\n",
       "</div>"
      ],
      "text/plain": [
       "     이름    키  출생연도 출신지  집권기간    약칭\n",
       "번호                                \n",
       "12  문재인  173  1950  경남   5.0  Moon\n",
       "13  윤석열  178  1960  서울   5.0  Seok\n",
       "14  이재명  175  1960  경북   0.0   Lee"
      ]
     },
     "execution_count": 25,
     "metadata": {},
     "output_type": "execute_result"
    }
   ],
   "source": [
    "df.tail(3)"
   ]
  },
  {
   "cell_type": "code",
   "execution_count": 26,
   "id": "34f3d7c2",
   "metadata": {
    "scrolled": true
   },
   "outputs": [
    {
     "name": "stdout",
     "output_type": "stream",
     "text": [
      "[['이승만' 172 1870 '황해' 9.0 'Lee']\n",
      " ['윤보선' 169 1890 '충남' 0.5 'Yoon']\n",
      " ['박정희' 162 1910 '경북' 18.0 'President Part']\n",
      " ['최규하' 182 1920 '강원' 0.5 'Choi']\n",
      " ['전두환' 172 1930 '경남' 7.0 'Jeon']\n",
      " ['노태우' 180 1930 '경북' 5.0 'Noe']\n",
      " ['김영삼' 172 1920 '경남' 5.0 'Sam']\n",
      " ['김대중' 170 1920 '전남' 5.0 'Kim']\n",
      " ['이회창' 168 1930 '황해' 0.0 'Chang']\n",
      " ['노무현' 165 1940 '경남' 5.0 'Noe']\n",
      " ['이명박' 175 1940 '경북' 5.0 'Lee']\n",
      " ['박근혜' 163 1950 '경북' 4.5 'Park']\n",
      " ['문재인' 173 1950 '경남' 5.0 'Moon']\n",
      " ['윤석열' 178 1960 '서울' 5.0 'Seok']\n",
      " ['이재명' 175 1960 '경북' 0.0 'Lee']] <class 'numpy.ndarray'>\n"
     ]
    }
   ],
   "source": [
    "print(df.values, type(df.values))"
   ]
  },
  {
   "cell_type": "code",
   "execution_count": 27,
   "id": "141155e1",
   "metadata": {},
   "outputs": [
    {
     "data": {
      "text/plain": [
       "Int64Index([0, 1, 2, 3, 4, 5, 6, 7, 8, 9, 10, 11, 12, 13, 14], dtype='int64', name='번호')"
      ]
     },
     "execution_count": 27,
     "metadata": {},
     "output_type": "execute_result"
    }
   ],
   "source": [
    "df.index"
   ]
  },
  {
   "cell_type": "code",
   "execution_count": 28,
   "id": "1f499ddc",
   "metadata": {},
   "outputs": [
    {
     "data": {
      "text/plain": [
       "Index(['이름', '키', '출생연도', '출신지', '집권기간', '약칭'], dtype='object')"
      ]
     },
     "execution_count": 28,
     "metadata": {},
     "output_type": "execute_result"
    }
   ],
   "source": [
    "df.columns"
   ]
  },
  {
   "cell_type": "code",
   "execution_count": 29,
   "id": "663f3e34",
   "metadata": {},
   "outputs": [
    {
     "data": {
      "text/plain": [
       "(15, 6)"
      ]
     },
     "execution_count": 29,
     "metadata": {},
     "output_type": "execute_result"
    }
   ],
   "source": [
    "df.shape\n",
    "# 행, 열 수"
   ]
  },
  {
   "cell_type": "markdown",
   "id": "3167c9b8",
   "metadata": {},
   "source": [
    "## 시리즈 확인"
   ]
  },
  {
   "cell_type": "code",
   "execution_count": 30,
   "id": "5c63c04b",
   "metadata": {},
   "outputs": [
    {
     "data": {
      "text/plain": [
       "count     15.000000\n",
       "mean     171.733333\n",
       "std        5.836666\n",
       "min      162.000000\n",
       "25%      168.500000\n",
       "50%      172.000000\n",
       "75%      175.000000\n",
       "max      182.000000\n",
       "Name: 키, dtype: float64"
      ]
     },
     "execution_count": 30,
     "metadata": {},
     "output_type": "execute_result"
    }
   ],
   "source": [
    "df['키'].describe()"
   ]
  },
  {
   "cell_type": "code",
   "execution_count": 31,
   "id": "ba69d7b7",
   "metadata": {},
   "outputs": [
    {
     "data": {
      "text/plain": [
       "182"
      ]
     },
     "execution_count": 31,
     "metadata": {},
     "output_type": "execute_result"
    }
   ],
   "source": [
    "df['키'].max()"
   ]
  },
  {
   "cell_type": "code",
   "execution_count": 32,
   "id": "9c774cd0",
   "metadata": {},
   "outputs": [
    {
     "data": {
      "text/plain": [
       "번호\n",
       "3    182\n",
       "5    180\n",
       "Name: 키, dtype: int64"
      ]
     },
     "execution_count": 32,
     "metadata": {},
     "output_type": "execute_result"
    }
   ],
   "source": [
    "df['키'].nlargest(2)"
   ]
  },
  {
   "cell_type": "code",
   "execution_count": 33,
   "id": "e3ea40f6",
   "metadata": {},
   "outputs": [
    {
     "data": {
      "text/plain": [
       "171.73333333333332"
      ]
     },
     "execution_count": 33,
     "metadata": {},
     "output_type": "execute_result"
    }
   ],
   "source": [
    "df['키'].mean()"
   ]
  },
  {
   "cell_type": "code",
   "execution_count": 34,
   "id": "4b444e2a",
   "metadata": {},
   "outputs": [
    {
     "data": {
      "text/plain": [
       "2576"
      ]
     },
     "execution_count": 34,
     "metadata": {},
     "output_type": "execute_result"
    }
   ],
   "source": [
    "df['키'].sum()"
   ]
  },
  {
   "cell_type": "code",
   "execution_count": 35,
   "id": "6b13ed15",
   "metadata": {},
   "outputs": [
    {
     "data": {
      "text/plain": [
       "15"
      ]
     },
     "execution_count": 35,
     "metadata": {},
     "output_type": "execute_result"
    }
   ],
   "source": [
    "df['출신지'].count()"
   ]
  },
  {
   "cell_type": "code",
   "execution_count": 36,
   "id": "a5bda23a",
   "metadata": {},
   "outputs": [
    {
     "data": {
      "text/plain": [
       "array(['황해', '충남', '경북', '강원', '경남', '전남', '서울'], dtype=object)"
      ]
     },
     "execution_count": 36,
     "metadata": {},
     "output_type": "execute_result"
    }
   ],
   "source": [
    "df['출신지'].unique()"
   ]
  },
  {
   "cell_type": "code",
   "execution_count": 37,
   "id": "0b63907b",
   "metadata": {},
   "outputs": [
    {
     "data": {
      "text/plain": [
       "경북    5\n",
       "경남    4\n",
       "황해    2\n",
       "충남    1\n",
       "강원    1\n",
       "전남    1\n",
       "서울    1\n",
       "Name: 출신지, dtype: int64"
      ]
     },
     "execution_count": 37,
     "metadata": {},
     "output_type": "execute_result"
    }
   ],
   "source": [
    "df['출신지'].value_counts()"
   ]
  }
 ],
 "metadata": {
  "kernelspec": {
   "display_name": "Python 3 (ipykernel)",
   "language": "python",
   "name": "python3"
  },
  "language_info": {
   "codemirror_mode": {
    "name": "ipython",
    "version": 3
   },
   "file_extension": ".py",
   "mimetype": "text/x-python",
   "name": "python",
   "nbconvert_exporter": "python",
   "pygments_lexer": "ipython3",
   "version": "3.9.13"
  }
 },
 "nbformat": 4,
 "nbformat_minor": 5
}
