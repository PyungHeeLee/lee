{
 "cells": [
  {
   "cell_type": "code",
   "execution_count": 7,
   "id": "9a019cff",
   "metadata": {},
   "outputs": [],
   "source": [
    "import pandas as pd\n",
    "import numpy as np\n",
    "import matplotlib.pyplot as plt\n",
    "import matplotlib\n",
    "matplotlib.rcParams['font.family'] = 'Malgun Gothic'\n",
    "matplotlib.rcParams['font.size'] = 15\n",
    "matplotlib.rcParams['axes.unicode_minus'] = False # 마이너스 글자가 깨지는 현상을 해결"
   ]
  },
  {
   "cell_type": "code",
   "execution_count": 8,
   "id": "5b1dc00a",
   "metadata": {},
   "outputs": [
    {
     "data": {
      "text/html": [
       "<div>\n",
       "<style scoped>\n",
       "    .dataframe tbody tr th:only-of-type {\n",
       "        vertical-align: middle;\n",
       "    }\n",
       "\n",
       "    .dataframe tbody tr th {\n",
       "        vertical-align: top;\n",
       "    }\n",
       "\n",
       "    .dataframe thead th {\n",
       "        text-align: right;\n",
       "    }\n",
       "</style>\n",
       "<table border=\"1\" class=\"dataframe\">\n",
       "  <thead>\n",
       "    <tr style=\"text-align: right;\">\n",
       "      <th></th>\n",
       "      <th>이름</th>\n",
       "      <th>국어</th>\n",
       "      <th>수학</th>\n",
       "      <th>탐구</th>\n",
       "      <th>출생연도</th>\n",
       "      <th>응시연도</th>\n",
       "      <th>수학가나형통합여부</th>\n",
       "      <th>지역</th>\n",
       "    </tr>\n",
       "    <tr>\n",
       "      <th>번호</th>\n",
       "      <th></th>\n",
       "      <th></th>\n",
       "      <th></th>\n",
       "      <th></th>\n",
       "      <th></th>\n",
       "      <th></th>\n",
       "      <th></th>\n",
       "      <th></th>\n",
       "    </tr>\n",
       "  </thead>\n",
       "  <tbody>\n",
       "    <tr>\n",
       "      <th>0</th>\n",
       "      <td>이평희</td>\n",
       "      <td>86</td>\n",
       "      <td>84</td>\n",
       "      <td>93</td>\n",
       "      <td>1998</td>\n",
       "      <td>2017</td>\n",
       "      <td>False</td>\n",
       "      <td>달서</td>\n",
       "    </tr>\n",
       "    <tr>\n",
       "      <th>1</th>\n",
       "      <td>친구</td>\n",
       "      <td>92</td>\n",
       "      <td>98</td>\n",
       "      <td>95</td>\n",
       "      <td>1999</td>\n",
       "      <td>2022</td>\n",
       "      <td>True</td>\n",
       "      <td>경산</td>\n",
       "    </tr>\n",
       "    <tr>\n",
       "      <th>2</th>\n",
       "      <td>형</td>\n",
       "      <td>96</td>\n",
       "      <td>97</td>\n",
       "      <td>92</td>\n",
       "      <td>1994</td>\n",
       "      <td>2012</td>\n",
       "      <td>False</td>\n",
       "      <td>달서</td>\n",
       "    </tr>\n",
       "    <tr>\n",
       "      <th>3</th>\n",
       "      <td>누나</td>\n",
       "      <td>96</td>\n",
       "      <td>86</td>\n",
       "      <td>94</td>\n",
       "      <td>1996</td>\n",
       "      <td>2013</td>\n",
       "      <td>False</td>\n",
       "      <td>달서</td>\n",
       "    </tr>\n",
       "    <tr>\n",
       "      <th>4</th>\n",
       "      <td>친구여동생</td>\n",
       "      <td>100</td>\n",
       "      <td>99</td>\n",
       "      <td>97</td>\n",
       "      <td>2000</td>\n",
       "      <td>2021</td>\n",
       "      <td>True</td>\n",
       "      <td>경산</td>\n",
       "    </tr>\n",
       "    <tr>\n",
       "      <th>5</th>\n",
       "      <td>사촌동생1</td>\n",
       "      <td>89</td>\n",
       "      <td>82</td>\n",
       "      <td>96</td>\n",
       "      <td>1999</td>\n",
       "      <td>2017</td>\n",
       "      <td>False</td>\n",
       "      <td>수성</td>\n",
       "    </tr>\n",
       "    <tr>\n",
       "      <th>6</th>\n",
       "      <td>사촌동생2</td>\n",
       "      <td>76</td>\n",
       "      <td>65</td>\n",
       "      <td>68</td>\n",
       "      <td>2001</td>\n",
       "      <td>2018</td>\n",
       "      <td>False</td>\n",
       "      <td>수성</td>\n",
       "    </tr>\n",
       "  </tbody>\n",
       "</table>\n",
       "</div>"
      ],
      "text/plain": [
       "       이름   국어  수학  탐구  출생연도  응시연도  수학가나형통합여부  지역\n",
       "번호                                               \n",
       "0     이평희   86  84  93  1998  2017      False  달서\n",
       "1      친구   92  98  95  1999  2022       True  경산\n",
       "2       형   96  97  92  1994  2012      False  달서\n",
       "3      누나   96  86  94  1996  2013      False  달서\n",
       "4   친구여동생  100  99  97  2000  2021       True  경산\n",
       "5   사촌동생1   89  82  96  1999  2017      False  수성\n",
       "6   사촌동생2   76  65  68  2001  2018      False  수성"
      ]
     },
     "execution_count": 8,
     "metadata": {},
     "output_type": "execute_result"
    }
   ],
   "source": [
    "df = pd.read_excel('../pandas/suneung.xlsx', index_col='번호')\n",
    "df['지역'] = ['달서', '경산', '달서', '달서', '경산', '수성', '수성']\n",
    "df"
   ]
  },
  {
   "cell_type": "code",
   "execution_count": 9,
   "id": "c45b758f",
   "metadata": {},
   "outputs": [
    {
     "data": {
      "text/plain": [
       "[500, 100, 500, 500, 100, 300, 300]"
      ]
     },
     "execution_count": 9,
     "metadata": {},
     "output_type": "execute_result"
    }
   ],
   "source": [
    "size = []\n",
    "for i in range(len(df.index)):\n",
    "    if df['지역'][i] == '달서':\n",
    "        size.append(500)\n",
    "    elif df['지역'][i] == '경산':\n",
    "        size.append(100)\n",
    "    elif df['지역'][i] == '수성':\n",
    "        size.append(300)\n",
    "size"
   ]
  },
  {
   "cell_type": "code",
   "execution_count": 10,
   "id": "9120cd82",
   "metadata": {},
   "outputs": [
    {
     "data": {
      "image/png": "[encoded data removed]",
      "text/plain": [
       "<Figure size 700x700 with 2 Axes>"
      ]
     },
     "metadata": {},
     "output_type": "display_data"
    }
   ],
   "source": [
    "plt.figure(figsize=[7,7])\n",
    "plt.scatter(df['국어'], df['수학'], s=size, c=df['출생연도'], cmap='viridis', alpha=0.7)\n",
    "plt.xlabel('국')\n",
    "plt.ylabel('수')\n",
    "plt.colorbar(ticks=[1994, 2001], label='출생연도', shrink=0.5, orientation='horizontal')\n",
    "plt.show()"
   ]
  }
 ],
 "metadata": {
  "kernelspec": {
   "display_name": "Python 3 (ipykernel)",
   "language": "python",
   "name": "python3"
  },
  "language_info": {
   "codemirror_mode": {
    "name": "ipython",
    "version": 3
   },
   "file_extension": ".py",
   "mimetype": "text/x-python",
   "name": "python",
   "nbconvert_exporter": "python",
   "pygments_lexer": "ipython3",
   "version": "3.9.13"
  }
 },
 "nbformat": 4,
 "nbformat_minor": 5
}
